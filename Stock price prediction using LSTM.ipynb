{
 "cells": [
  {
   "cell_type": "markdown",
   "id": "1e6d1c7c",
   "metadata": {},
   "source": [
    "### Stock Market Prediction And Forcasting Using Stacked LSTM"
   ]
  },
  {
   "cell_type": "code",
   "execution_count": 113,
   "id": "01b35b1c",
   "metadata": {},
   "outputs": [],
   "source": [
    "import pandas as pd\n",
    "import numpy as np\n",
    "import matplotlib.pyplot as plt\n",
    "# Data collection \n",
    "import pandas_datareader as pdr"
   ]
  },
  {
   "cell_type": "code",
   "execution_count": 114,
   "id": "31aba31c",
   "metadata": {},
   "outputs": [
    {
     "name": "stderr",
     "output_type": "stream",
     "text": [
      "C:\\Users\\nikhi\\AppData\\Local\\Temp\\ipykernel_4076\\1618971130.py:1: FutureWarning: In a future version of pandas all arguments of concat except for the argument 'objs' will be keyword-only.\n",
      "  df = pdr.get_data_tiingo('AAPL', api_key='f4c63e69668ce8e0333bd84aebd85d2a18d0b49f')\n"
     ]
    }
   ],
   "source": [
    "df = pdr.get_data_tiingo('AAPL', api_key='f4c63e69668ce8e0333bd84aebd85d2a18d0b49f')"
   ]
  },
  {
   "cell_type": "code",
   "execution_count": 115,
   "id": "a4b6382c",
   "metadata": {},
   "outputs": [],
   "source": [
    "df.to_csv('AAPL.csv')"
   ]
  },
  {
   "cell_type": "code",
   "execution_count": 116,
   "id": "fdbcd9bd",
   "metadata": {},
   "outputs": [],
   "source": [
    "df = pd.read_csv('AAPL.csv')"
   ]
  },
  {
   "cell_type": "code",
   "execution_count": 117,
   "id": "295ee52d",
   "metadata": {},
   "outputs": [
    {
     "data": {
      "text/html": [
       "<div>\n",
       "<style scoped>\n",
       "    .dataframe tbody tr th:only-of-type {\n",
       "        vertical-align: middle;\n",
       "    }\n",
       "\n",
       "    .dataframe tbody tr th {\n",
       "        vertical-align: top;\n",
       "    }\n",
       "\n",
       "    .dataframe thead th {\n",
       "        text-align: right;\n",
       "    }\n",
       "</style>\n",
       "<table border=\"1\" class=\"dataframe\">\n",
       "  <thead>\n",
       "    <tr style=\"text-align: right;\">\n",
       "      <th></th>\n",
       "      <th>symbol</th>\n",
       "      <th>date</th>\n",
       "      <th>close</th>\n",
       "      <th>high</th>\n",
       "      <th>low</th>\n",
       "      <th>open</th>\n",
       "      <th>volume</th>\n",
       "      <th>adjClose</th>\n",
       "      <th>adjHigh</th>\n",
       "      <th>adjLow</th>\n",
       "      <th>adjOpen</th>\n",
       "      <th>adjVolume</th>\n",
       "      <th>divCash</th>\n",
       "      <th>splitFactor</th>\n",
       "    </tr>\n",
       "  </thead>\n",
       "  <tbody>\n",
       "    <tr>\n",
       "      <th>0</th>\n",
       "      <td>AAPL</td>\n",
       "      <td>2017-11-13 00:00:00+00:00</td>\n",
       "      <td>173.97</td>\n",
       "      <td>174.5000</td>\n",
       "      <td>173.40</td>\n",
       "      <td>173.50</td>\n",
       "      <td>16828025</td>\n",
       "      <td>41.355099</td>\n",
       "      <td>41.481087</td>\n",
       "      <td>41.219602</td>\n",
       "      <td>41.243373</td>\n",
       "      <td>67312100</td>\n",
       "      <td>0.0</td>\n",
       "      <td>1.0</td>\n",
       "    </tr>\n",
       "    <tr>\n",
       "      <th>1</th>\n",
       "      <td>AAPL</td>\n",
       "      <td>2017-11-14 00:00:00+00:00</td>\n",
       "      <td>171.34</td>\n",
       "      <td>173.4800</td>\n",
       "      <td>171.18</td>\n",
       "      <td>173.04</td>\n",
       "      <td>23588451</td>\n",
       "      <td>40.729911</td>\n",
       "      <td>41.238619</td>\n",
       "      <td>40.691877</td>\n",
       "      <td>41.134025</td>\n",
       "      <td>94353804</td>\n",
       "      <td>0.0</td>\n",
       "      <td>1.0</td>\n",
       "    </tr>\n",
       "    <tr>\n",
       "      <th>2</th>\n",
       "      <td>AAPL</td>\n",
       "      <td>2017-11-15 00:00:00+00:00</td>\n",
       "      <td>169.08</td>\n",
       "      <td>170.3197</td>\n",
       "      <td>168.38</td>\n",
       "      <td>169.97</td>\n",
       "      <td>28702351</td>\n",
       "      <td>40.192677</td>\n",
       "      <td>40.487372</td>\n",
       "      <td>40.026278</td>\n",
       "      <td>40.404243</td>\n",
       "      <td>114809404</td>\n",
       "      <td>0.0</td>\n",
       "      <td>1.0</td>\n",
       "    </tr>\n",
       "    <tr>\n",
       "      <th>3</th>\n",
       "      <td>AAPL</td>\n",
       "      <td>2017-11-16 00:00:00+00:00</td>\n",
       "      <td>171.10</td>\n",
       "      <td>171.8700</td>\n",
       "      <td>170.30</td>\n",
       "      <td>171.18</td>\n",
       "      <td>23497326</td>\n",
       "      <td>40.672860</td>\n",
       "      <td>40.855899</td>\n",
       "      <td>40.482689</td>\n",
       "      <td>40.691877</td>\n",
       "      <td>93989304</td>\n",
       "      <td>0.0</td>\n",
       "      <td>1.0</td>\n",
       "    </tr>\n",
       "    <tr>\n",
       "      <th>4</th>\n",
       "      <td>AAPL</td>\n",
       "      <td>2017-11-17 00:00:00+00:00</td>\n",
       "      <td>170.15</td>\n",
       "      <td>171.3900</td>\n",
       "      <td>169.64</td>\n",
       "      <td>171.04</td>\n",
       "      <td>21665811</td>\n",
       "      <td>40.447031</td>\n",
       "      <td>40.741797</td>\n",
       "      <td>40.325797</td>\n",
       "      <td>40.658597</td>\n",
       "      <td>86663244</td>\n",
       "      <td>0.0</td>\n",
       "      <td>1.0</td>\n",
       "    </tr>\n",
       "  </tbody>\n",
       "</table>\n",
       "</div>"
      ],
      "text/plain": [
       "  symbol                       date   close      high     low    open  \\\n",
       "0   AAPL  2017-11-13 00:00:00+00:00  173.97  174.5000  173.40  173.50   \n",
       "1   AAPL  2017-11-14 00:00:00+00:00  171.34  173.4800  171.18  173.04   \n",
       "2   AAPL  2017-11-15 00:00:00+00:00  169.08  170.3197  168.38  169.97   \n",
       "3   AAPL  2017-11-16 00:00:00+00:00  171.10  171.8700  170.30  171.18   \n",
       "4   AAPL  2017-11-17 00:00:00+00:00  170.15  171.3900  169.64  171.04   \n",
       "\n",
       "     volume   adjClose    adjHigh     adjLow    adjOpen  adjVolume  divCash  \\\n",
       "0  16828025  41.355099  41.481087  41.219602  41.243373   67312100      0.0   \n",
       "1  23588451  40.729911  41.238619  40.691877  41.134025   94353804      0.0   \n",
       "2  28702351  40.192677  40.487372  40.026278  40.404243  114809404      0.0   \n",
       "3  23497326  40.672860  40.855899  40.482689  40.691877   93989304      0.0   \n",
       "4  21665811  40.447031  40.741797  40.325797  40.658597   86663244      0.0   \n",
       "\n",
       "   splitFactor  \n",
       "0          1.0  \n",
       "1          1.0  \n",
       "2          1.0  \n",
       "3          1.0  \n",
       "4          1.0  "
      ]
     },
     "execution_count": 117,
     "metadata": {},
     "output_type": "execute_result"
    }
   ],
   "source": [
    "df.head()"
   ]
  },
  {
   "cell_type": "code",
   "execution_count": 118,
   "id": "1ee097b2",
   "metadata": {},
   "outputs": [],
   "source": [
    "# taking the close colum from the data set\n",
    "df1 = df.reset_index()['close']"
   ]
  },
  {
   "cell_type": "code",
   "execution_count": 119,
   "id": "cd06200b",
   "metadata": {},
   "outputs": [
    {
     "data": {
      "text/plain": [
       "0    173.97\n",
       "1    171.34\n",
       "2    169.08\n",
       "3    171.10\n",
       "4    170.15\n",
       "Name: close, dtype: float64"
      ]
     },
     "execution_count": 119,
     "metadata": {},
     "output_type": "execute_result"
    }
   ],
   "source": [
    "df1.head()"
   ]
  },
  {
   "cell_type": "code",
   "execution_count": 120,
   "id": "4d21812b",
   "metadata": {},
   "outputs": [
    {
     "data": {
      "text/plain": [
       "(1258,)"
      ]
     },
     "execution_count": 120,
     "metadata": {},
     "output_type": "execute_result"
    }
   ],
   "source": [
    "df1.shape"
   ]
  },
  {
   "cell_type": "code",
   "execution_count": 121,
   "id": "92c9cabb",
   "metadata": {},
   "outputs": [
    {
     "data": {
      "text/plain": [
       "[<matplotlib.lines.Line2D at 0x1f734b52c10>]"
      ]
     },
     "execution_count": 121,
     "metadata": {},
     "output_type": "execute_result"
    },
    {
     "data": {
      "image/png": "[encoded data removed]",
      "text/plain": [
       "<Figure size 640x480 with 1 Axes>"
      ]
     },
     "metadata": {},
     "output_type": "display_data"
    }
   ],
   "source": [
    "plt.plot(df1)"
   ]
  },
  {
   "cell_type": "code",
   "execution_count": 122,
   "id": "533fd882",
   "metadata": {},
   "outputs": [],
   "source": [
    "# LSTM perform well on scaled data"
   ]
  },
  {
   "cell_type": "code",
   "execution_count": 123,
   "id": "52458154",
   "metadata": {},
   "outputs": [],
   "source": [
    "from sklearn.preprocessing import MinMaxScaler\n",
    "scaler=MinMaxScaler(feature_range=(0,1)) # scale down between 0, 1\n",
    "df1=scaler.fit_transform(np.array(df1).reshape(-1,1))"
   ]
  },
  {
   "cell_type": "code",
   "execution_count": 124,
   "id": "4501bc1b",
   "metadata": {},
   "outputs": [
    {
     "data": {
      "text/plain": [
       "(1258, 1)"
      ]
     },
     "execution_count": 124,
     "metadata": {},
     "output_type": "execute_result"
    }
   ],
   "source": [
    "df1.shape"
   ]
  },
  {
   "cell_type": "code",
   "execution_count": 125,
   "id": "75656192",
   "metadata": {},
   "outputs": [
    {
     "data": {
      "text/plain": [
       "array([[0.16814026],\n",
       "       [0.16155291],\n",
       "       [0.1558923 ],\n",
       "       ...,\n",
       "       [0.08180338],\n",
       "       [0.07020664],\n",
       "       [0.10026299]])"
      ]
     },
     "execution_count": 125,
     "metadata": {},
     "output_type": "execute_result"
    }
   ],
   "source": [
    "df1"
   ]
  },
  {
   "cell_type": "code",
   "execution_count": 126,
   "id": "c112db6b",
   "metadata": {},
   "outputs": [],
   "source": [
    "# splitting dataset into train and test split\n",
    "training_size = int(len(df1)*0.65)\n",
    "test_size = len(df1)-training_size\n",
    "#                           0 -> 875                875 - >\n",
    "train_data, test_data = df1[0:training_size,:], df1[training_size:len(df1),:1]"
   ]
  },
  {
   "cell_type": "code",
   "execution_count": 127,
   "id": "993d4ebb",
   "metadata": {},
   "outputs": [
    {
     "data": {
      "text/plain": [
       "(817, 441)"
      ]
     },
     "execution_count": 127,
     "metadata": {},
     "output_type": "execute_result"
    }
   ],
   "source": [
    "training_size, test_size"
   ]
  },
  {
   "cell_type": "code",
   "execution_count": 128,
   "id": "702a629a",
   "metadata": {},
   "outputs": [],
   "source": [
    "# convert an array of values into dataset matrix\n",
    "def create_dataset(dataset, time_step=1):\n",
    "    dataX, dataY = [], []\n",
    "    for i in range(len(dataset)-time_step-1):\n",
    "        a = dataset[i:(i+time_step), 0]  # i=0, 1, 2, 3\n",
    "        dataX.append(a)\n",
    "        dataY.append(dataset[i + time_step, 0])\n",
    "    return np.array(dataX), np.array(dataY)"
   ]
  },
  {
   "cell_type": "code",
   "execution_count": 129,
   "id": "7db36eeb",
   "metadata": {},
   "outputs": [],
   "source": [
    "# reshape into X=t,t+1,t+2,t+3 and t+4\n",
    "time_step = 100\n",
    "X_train, y_train = create_dataset(train_data, time_step)\n",
    "X_test , y_test = create_dataset(test_data, time_step)"
   ]
  },
  {
   "cell_type": "code",
   "execution_count": 130,
   "id": "d04090ed",
   "metadata": {},
   "outputs": [
    {
     "name": "stdout",
     "output_type": "stream",
     "text": [
      "(716, 100)\n",
      "(716,)\n"
     ]
    },
    {
     "data": {
      "text/plain": [
       "(None, None)"
      ]
     },
     "execution_count": 130,
     "metadata": {},
     "output_type": "execute_result"
    }
   ],
   "source": [
    "print(X_train.shape), print(y_train.shape)"
   ]
  },
  {
   "cell_type": "code",
   "execution_count": 132,
   "id": "b37de9bc",
   "metadata": {},
   "outputs": [
    {
     "name": "stdout",
     "output_type": "stream",
     "text": [
      "(716, 100)\n",
      "(340,)\n"
     ]
    },
    {
     "data": {
      "text/plain": [
       "(None, None)"
      ]
     },
     "execution_count": 132,
     "metadata": {},
     "output_type": "execute_result"
    }
   ],
   "source": [
    "print(X_train.shape), print(y_test.shape)"
   ]
  },
  {
   "cell_type": "code",
   "execution_count": 133,
   "id": "2e45a4f8",
   "metadata": {},
   "outputs": [],
   "source": [
    "# We need to convert all this data to 3D\n",
    "# reshape input[samples, time steps, features] which is required for LSTM\n",
    "X_train = X_train.reshape(X_train.shape[0], X_train.shape[1], 1)\n",
    "X_test = X_test.reshape(X_test.shape[0], X_test.shape[1], 1)"
   ]
  },
  {
   "cell_type": "code",
   "execution_count": 135,
   "id": "311f0877",
   "metadata": {},
   "outputs": [],
   "source": [
    "# crate LSTM model\n",
    "from tensorflow.keras.models import Sequential\n",
    "from tensorflow.keras.layers import Dense\n",
    "from tensorflow.keras.layers import LSTM"
   ]
  },
  {
   "cell_type": "code",
   "execution_count": 140,
   "id": "e8598c34",
   "metadata": {},
   "outputs": [],
   "source": [
    "model = Sequential()\n",
    "model.add(LSTM(50, return_sequences=True, input_shape=(100, 1)))\n",
    "model.add(LSTM(50, return_sequences=True))\n",
    "model.add(LSTM(50))\n",
    "model.add(Dense(1))\n",
    "model.compile(loss='mean_squared_error', optimizer='adam')"
   ]
  },
  {
   "cell_type": "code",
   "execution_count": 141,
   "id": "c4783d09",
   "metadata": {},
   "outputs": [
    {
     "name": "stdout",
     "output_type": "stream",
     "text": [
      "Model: \"sequential_1\"\n",
      "_________________________________________________________________\n",
      "Layer (type)                 Output Shape              Param #   \n",
      "=================================================================\n",
      "lstm_3 (LSTM)                (None, 100, 50)           10400     \n",
      "_________________________________________________________________\n",
      "lstm_4 (LSTM)                (None, 100, 50)           20200     \n",
      "_________________________________________________________________\n",
      "lstm_5 (LSTM)                (None, 50)                20200     \n",
      "_________________________________________________________________\n",
      "dense_1 (Dense)              (None, 1)                 51        \n",
      "=================================================================\n",
      "Total params: 50,851\n",
      "Trainable params: 50,851\n",
      "Non-trainable params: 0\n",
      "_________________________________________________________________\n"
     ]
    }
   ],
   "source": [
    "model.summary()"
   ]
  },
  {
   "cell_type": "code",
   "execution_count": 142,
   "id": "28c4559b",
   "metadata": {},
   "outputs": [
    {
     "name": "stdout",
     "output_type": "stream",
     "text": [
      "Epoch 1/100\n",
      "12/12 [==============================] - 10s 126ms/step - loss: 0.0428 - val_loss: 0.0012\n",
      "Epoch 2/100\n",
      "12/12 [==============================] - 0s 27ms/step - loss: 0.0192 - val_loss: 0.0078\n",
      "Epoch 3/100\n",
      "12/12 [==============================] - 0s 27ms/step - loss: 0.0124 - val_loss: 3.7863e-04\n",
      "Epoch 4/100\n",
      "12/12 [==============================] - 0s 27ms/step - loss: 0.0115 - val_loss: 0.0020\n",
      "Epoch 5/100\n",
      "12/12 [==============================] - 0s 27ms/step - loss: 0.0118 - val_loss: 0.0015\n",
      "Epoch 6/100\n",
      "12/12 [==============================] - 0s 28ms/step - loss: 0.0087 - val_loss: 3.8492e-04\n",
      "Epoch 7/100\n",
      "12/12 [==============================] - 0s 27ms/step - loss: 0.0086 - val_loss: 8.8584e-04\n",
      "Epoch 8/100\n",
      "12/12 [==============================] - 0s 27ms/step - loss: 0.0068 - val_loss: 5.4192e-04\n",
      "Epoch 9/100\n",
      "12/12 [==============================] - 0s 27ms/step - loss: 0.0067 - val_loss: 3.6534e-04\n",
      "Epoch 10/100\n",
      "12/12 [==============================] - 0s 27ms/step - loss: 0.0059 - val_loss: 3.6068e-04\n",
      "Epoch 11/100\n",
      "12/12 [==============================] - 0s 27ms/step - loss: 0.0054 - val_loss: 8.0552e-04\n",
      "Epoch 12/100\n",
      "12/12 [==============================] - 0s 26ms/step - loss: 0.0049 - val_loss: 3.2784e-04\n",
      "Epoch 13/100\n",
      "12/12 [==============================] - 0s 26ms/step - loss: 0.0046 - val_loss: 3.2405e-04\n",
      "Epoch 14/100\n",
      "12/12 [==============================] - 0s 28ms/step - loss: 0.0046 - val_loss: 3.1149e-04\n",
      "Epoch 15/100\n",
      "12/12 [==============================] - 0s 27ms/step - loss: 0.0047 - val_loss: 3.6807e-04\n",
      "Epoch 16/100\n",
      "12/12 [==============================] - 0s 27ms/step - loss: 0.0039 - val_loss: 4.1124e-04\n",
      "Epoch 17/100\n",
      "12/12 [==============================] - 0s 28ms/step - loss: 0.0037 - val_loss: 5.1427e-04\n",
      "Epoch 18/100\n",
      "12/12 [==============================] - 0s 27ms/step - loss: 0.0035 - val_loss: 3.0526e-04\n",
      "Epoch 19/100\n",
      "12/12 [==============================] - 0s 27ms/step - loss: 0.0027 - val_loss: 6.2174e-04\n",
      "Epoch 20/100\n",
      "12/12 [==============================] - 0s 29ms/step - loss: 0.0032 - val_loss: 2.9323e-04\n",
      "Epoch 21/100\n",
      "12/12 [==============================] - 0s 26ms/step - loss: 0.0032 - val_loss: 5.9251e-04\n",
      "Epoch 22/100\n",
      "12/12 [==============================] - 0s 26ms/step - loss: 0.0030 - val_loss: 3.7412e-04\n",
      "Epoch 23/100\n",
      "12/12 [==============================] - 0s 28ms/step - loss: 0.0025 - val_loss: 2.9921e-04\n",
      "Epoch 24/100\n",
      "12/12 [==============================] - 0s 27ms/step - loss: 0.0026 - val_loss: 2.6342e-04\n",
      "Epoch 25/100\n",
      "12/12 [==============================] - 0s 28ms/step - loss: 0.0023 - val_loss: 2.7373e-04\n",
      "Epoch 26/100\n",
      "12/12 [==============================] - 0s 37ms/step - loss: 0.0024 - val_loss: 3.0020e-04\n",
      "Epoch 27/100\n",
      "12/12 [==============================] - 0s 32ms/step - loss: 0.0029 - val_loss: 3.1343e-04\n",
      "Epoch 28/100\n",
      "12/12 [==============================] - 0s 31ms/step - loss: 0.0027 - val_loss: 2.3969e-04\n",
      "Epoch 29/100\n",
      "12/12 [==============================] - 1s 63ms/step - loss: 0.0027 - val_loss: 2.8505e-04\n",
      "Epoch 30/100\n",
      "12/12 [==============================] - 1s 43ms/step - loss: 0.0024 - val_loss: 3.7718e-04\n",
      "Epoch 31/100\n",
      "12/12 [==============================] - 0s 37ms/step - loss: 0.0026 - val_loss: 5.5091e-04\n",
      "Epoch 32/100\n",
      "12/12 [==============================] - 0s 37ms/step - loss: 0.0021 - val_loss: 3.0211e-04\n",
      "Epoch 33/100\n",
      "12/12 [==============================] - 1s 49ms/step - loss: 0.0021 - val_loss: 3.6865e-04\n",
      "Epoch 34/100\n",
      "12/12 [==============================] - 1s 44ms/step - loss: 0.0020 - val_loss: 3.1100e-04\n",
      "Epoch 35/100\n",
      "12/12 [==============================] - 0s 37ms/step - loss: 0.0020 - val_loss: 3.0535e-04\n",
      "Epoch 36/100\n",
      "12/12 [==============================] - 0s 31ms/step - loss: 0.0024 - val_loss: 2.2967e-04\n",
      "Epoch 37/100\n",
      "12/12 [==============================] - 0s 31ms/step - loss: 0.0051 - val_loss: 2.7999e-04\n",
      "Epoch 38/100\n",
      "12/12 [==============================] - 0s 32ms/step - loss: 0.0027 - val_loss: 2.4210e-04\n",
      "Epoch 39/100\n",
      "12/12 [==============================] - 0s 31ms/step - loss: 0.0025 - val_loss: 2.5154e-04\n",
      "Epoch 40/100\n",
      "12/12 [==============================] - 0s 29ms/step - loss: 0.0019 - val_loss: 2.4754e-04\n",
      "Epoch 41/100\n",
      "12/12 [==============================] - 0s 31ms/step - loss: 0.0024 - val_loss: 2.2771e-04\n",
      "Epoch 42/100\n",
      "12/12 [==============================] - 0s 35ms/step - loss: 0.0033 - val_loss: 3.5488e-04\n",
      "Epoch 43/100\n",
      "12/12 [==============================] - 0s 31ms/step - loss: 0.0056 - val_loss: 0.0013\n",
      "Epoch 44/100\n",
      "12/12 [==============================] - 0s 31ms/step - loss: 0.0039 - val_loss: 2.8208e-04\n",
      "Epoch 45/100\n",
      "12/12 [==============================] - 0s 32ms/step - loss: 0.0036 - val_loss: 3.7439e-04\n",
      "Epoch 46/100\n",
      "12/12 [==============================] - 0s 32ms/step - loss: 0.0027 - val_loss: 5.1168e-04\n",
      "Epoch 47/100\n",
      "12/12 [==============================] - 0s 31ms/step - loss: 0.0026 - val_loss: 2.3835e-04\n",
      "Epoch 48/100\n",
      "12/12 [==============================] - 0s 30ms/step - loss: 0.0023 - val_loss: 2.3526e-04\n",
      "Epoch 49/100\n",
      "12/12 [==============================] - 0s 29ms/step - loss: 0.0020 - val_loss: 2.5073e-04\n",
      "Epoch 50/100\n",
      "12/12 [==============================] - 0s 29ms/step - loss: 0.0018 - val_loss: 2.6424e-04\n",
      "Epoch 51/100\n",
      "12/12 [==============================] - 0s 29ms/step - loss: 0.0018 - val_loss: 2.3438e-04\n",
      "Epoch 52/100\n",
      "12/12 [==============================] - 0s 28ms/step - loss: 0.0019 - val_loss: 2.3288e-04\n",
      "Epoch 53/100\n",
      "12/12 [==============================] - 0s 30ms/step - loss: 0.0016 - val_loss: 2.4113e-04\n",
      "Epoch 54/100\n",
      "12/12 [==============================] - 0s 29ms/step - loss: 0.0026 - val_loss: 3.1922e-04\n",
      "Epoch 55/100\n",
      "12/12 [==============================] - 0s 29ms/step - loss: 0.0018 - val_loss: 2.3179e-04\n",
      "Epoch 56/100\n",
      "12/12 [==============================] - 0s 31ms/step - loss: 0.0017 - val_loss: 5.5173e-04\n",
      "Epoch 57/100\n",
      "12/12 [==============================] - 0s 29ms/step - loss: 0.0018 - val_loss: 2.9951e-04\n",
      "Epoch 58/100\n",
      "12/12 [==============================] - 0s 32ms/step - loss: 0.0014 - val_loss: 2.3207e-04\n",
      "Epoch 59/100\n",
      "12/12 [==============================] - 0s 31ms/step - loss: 0.0017 - val_loss: 2.3519e-04\n",
      "Epoch 60/100\n",
      "12/12 [==============================] - 0s 31ms/step - loss: 0.0022 - val_loss: 3.9676e-04\n",
      "Epoch 61/100\n",
      "12/12 [==============================] - 0s 30ms/step - loss: 0.0016 - val_loss: 2.3634e-04\n",
      "Epoch 62/100\n",
      "12/12 [==============================] - 0s 30ms/step - loss: 0.0018 - val_loss: 5.1562e-04\n",
      "Epoch 63/100\n",
      "12/12 [==============================] - 0s 30ms/step - loss: 0.0018 - val_loss: 2.3389e-04\n",
      "Epoch 64/100\n",
      "12/12 [==============================] - 0s 29ms/step - loss: 0.0023 - val_loss: 2.3562e-04\n",
      "Epoch 65/100\n",
      "12/12 [==============================] - 0s 33ms/step - loss: 0.0020 - val_loss: 2.4541e-04\n",
      "Epoch 66/100\n",
      "12/12 [==============================] - 0s 30ms/step - loss: 0.0034 - val_loss: 3.0793e-04\n",
      "Epoch 67/100\n",
      "12/12 [==============================] - 0s 30ms/step - loss: 0.0021 - val_loss: 3.0305e-04\n",
      "Epoch 68/100\n",
      "12/12 [==============================] - 0s 27ms/step - loss: 0.0025 - val_loss: 2.3590e-04\n",
      "Epoch 69/100\n",
      "12/12 [==============================] - 0s 32ms/step - loss: 0.0022 - val_loss: 2.5685e-04\n",
      "Epoch 70/100\n",
      "12/12 [==============================] - 0s 31ms/step - loss: 0.0019 - val_loss: 2.8918e-04\n",
      "Epoch 71/100\n",
      "12/12 [==============================] - 0s 31ms/step - loss: 0.0019 - val_loss: 2.3285e-04\n",
      "Epoch 72/100\n",
      "12/12 [==============================] - 0s 31ms/step - loss: 0.0019 - val_loss: 4.3717e-04\n",
      "Epoch 73/100\n",
      "12/12 [==============================] - 0s 30ms/step - loss: 0.0017 - val_loss: 2.9404e-04\n",
      "Epoch 74/100\n",
      "12/12 [==============================] - 0s 30ms/step - loss: 0.0029 - val_loss: 2.2932e-04\n",
      "Epoch 75/100\n",
      "12/12 [==============================] - 0s 29ms/step - loss: 0.0018 - val_loss: 2.6599e-04\n",
      "Epoch 76/100\n",
      "12/12 [==============================] - 0s 30ms/step - loss: 0.0023 - val_loss: 2.5020e-04\n",
      "Epoch 77/100\n",
      "12/12 [==============================] - 0s 29ms/step - loss: 0.0017 - val_loss: 2.4351e-04\n",
      "Epoch 78/100\n",
      "12/12 [==============================] - 0s 29ms/step - loss: 0.0018 - val_loss: 2.6560e-04\n",
      "Epoch 79/100\n"
     ]
    },
    {
     "name": "stdout",
     "output_type": "stream",
     "text": [
      "12/12 [==============================] - 0s 29ms/step - loss: 0.0022 - val_loss: 2.8692e-04\n",
      "Epoch 80/100\n",
      "12/12 [==============================] - 1s 49ms/step - loss: 0.0023 - val_loss: 3.0894e-04\n",
      "Epoch 81/100\n",
      "12/12 [==============================] - 0s 35ms/step - loss: 0.0019 - val_loss: 2.8064e-04\n",
      "Epoch 82/100\n",
      "12/12 [==============================] - 0s 32ms/step - loss: 0.0014 - val_loss: 2.2636e-04\n",
      "Epoch 83/100\n",
      "12/12 [==============================] - 0s 32ms/step - loss: 0.0013 - val_loss: 2.6530e-04\n",
      "Epoch 84/100\n",
      "12/12 [==============================] - 0s 30ms/step - loss: 0.0014 - val_loss: 2.8496e-04\n",
      "Epoch 85/100\n",
      "12/12 [==============================] - 0s 34ms/step - loss: 0.0022 - val_loss: 6.5061e-04\n",
      "Epoch 86/100\n",
      "12/12 [==============================] - 0s 33ms/step - loss: 0.0016 - val_loss: 2.5056e-04\n",
      "Epoch 87/100\n",
      "12/12 [==============================] - 0s 33ms/step - loss: 0.0014 - val_loss: 2.3893e-04\n",
      "Epoch 88/100\n",
      "12/12 [==============================] - 0s 32ms/step - loss: 0.0014 - val_loss: 2.7640e-04\n",
      "Epoch 89/100\n",
      "12/12 [==============================] - 0s 32ms/step - loss: 0.0013 - val_loss: 2.2829e-04\n",
      "Epoch 90/100\n",
      "12/12 [==============================] - 0s 30ms/step - loss: 0.0013 - val_loss: 2.4240e-04\n",
      "Epoch 91/100\n",
      "12/12 [==============================] - 0s 29ms/step - loss: 0.0012 - val_loss: 2.3338e-04\n",
      "Epoch 92/100\n",
      "12/12 [==============================] - 0s 31ms/step - loss: 0.0012 - val_loss: 2.2340e-04\n",
      "Epoch 93/100\n",
      "12/12 [==============================] - 0s 31ms/step - loss: 0.0012 - val_loss: 2.2657e-04\n",
      "Epoch 94/100\n",
      "12/12 [==============================] - 0s 29ms/step - loss: 0.0011 - val_loss: 2.3640e-04\n",
      "Epoch 95/100\n",
      "12/12 [==============================] - 0s 30ms/step - loss: 0.0015 - val_loss: 3.5634e-04\n",
      "Epoch 96/100\n",
      "12/12 [==============================] - 0s 30ms/step - loss: 0.0013 - val_loss: 2.4144e-04\n",
      "Epoch 97/100\n",
      "12/12 [==============================] - 0s 30ms/step - loss: 0.0012 - val_loss: 2.5152e-04\n",
      "Epoch 98/100\n",
      "12/12 [==============================] - 0s 31ms/step - loss: 0.0016 - val_loss: 2.6815e-04\n",
      "Epoch 99/100\n",
      "12/12 [==============================] - 0s 30ms/step - loss: 0.0013 - val_loss: 3.1339e-04\n",
      "Epoch 100/100\n",
      "12/12 [==============================] - 0s 30ms/step - loss: 0.0061 - val_loss: 2.5666e-04\n"
     ]
    },
    {
     "data": {
      "text/plain": [
       "<keras.callbacks.History at 0x1f84c5f4d90>"
      ]
     },
     "execution_count": 142,
     "metadata": {},
     "output_type": "execute_result"
    }
   ],
   "source": [
    "model.fit(X_train, y_train, validation_data=(X_test, y_test), epochs=100, batch_size=64, verbose=1)"
   ]
  },
  {
   "cell_type": "code",
   "execution_count": 143,
   "id": "d118d2b2",
   "metadata": {},
   "outputs": [],
   "source": [
    "train_pred = model.predict(X_train)\n",
    "test_pred = model.predict(X_test)"
   ]
  },
  {
   "cell_type": "code",
   "execution_count": 145,
   "id": "febc004c",
   "metadata": {},
   "outputs": [],
   "source": [
    "# Transformback to orginal form\n",
    "train_pred = scaler.inverse_transform(train_pred)\n",
    "test_pred = scaler.inverse_transform(test_pred)"
   ]
  },
  {
   "cell_type": "code",
   "execution_count": 146,
   "id": "d16e7c68",
   "metadata": {},
   "outputs": [
    {
     "data": {
      "text/plain": [
       "211.9313571314922"
      ]
     },
     "execution_count": 146,
     "metadata": {},
     "output_type": "execute_result"
    }
   ],
   "source": [
    "# Calculate RMSE prefomance metrics\n",
    "import math \n",
    "from sklearn.metrics import mean_squared_error\n",
    "math.sqrt(mean_squared_error(y_train, train_pred))"
   ]
  },
  {
   "cell_type": "code",
   "execution_count": 147,
   "id": "1fe20bba",
   "metadata": {},
   "outputs": [
    {
     "data": {
      "text/plain": [
       "152.78924852563543"
      ]
     },
     "execution_count": 147,
     "metadata": {},
     "output_type": "execute_result"
    }
   ],
   "source": [
    "# test data RMSE\n",
    "math.sqrt(mean_squared_error(y_test, test_pred))"
   ]
  },
  {
   "cell_type": "code",
   "execution_count": 148,
   "id": "bb211f71",
   "metadata": {},
   "outputs": [
    {
     "data": {
      "image/png": "[encoded data removed]",
      "text/plain": [
       "<Figure size 640x480 with 1 Axes>"
      ]
     },
     "metadata": {},
     "output_type": "display_data"
    }
   ],
   "source": [
    "# plotting \n",
    "look_back = 100\n",
    "trainPredictPlot = np.empty_like(df1)\n",
    "trainPredictPlot[:, :] = np.nan\n",
    "trainPredictPlot[look_back:len(train_pred)+look_back, :] = train_pred\n",
    "# shift test predictions for ploting \n",
    "testPredictPlot = np.empty_like(df1)\n",
    "testPredictPlot[:, :] = np.nan\n",
    "testPredictPlot[len(train_pred)+(look_back*2)+1:len(df1)-1, :] = test_pred\n",
    "# plot base line and predictions \n",
    "plt.plot(scaler.inverse_transform(df1))\n",
    "plt.plot(trainPredictPlot)\n",
    "plt.plot(testPredictPlot)\n",
    "plt.show()"
   ]
  },
  {
   "cell_type": "code",
   "execution_count": 150,
   "id": "d01b8282",
   "metadata": {},
   "outputs": [
    {
     "data": {
      "text/plain": [
       "441"
      ]
     },
     "execution_count": 150,
     "metadata": {},
     "output_type": "execute_result"
    }
   ],
   "source": [
    "len(test_data)"
   ]
  },
  {
   "cell_type": "code",
   "execution_count": 151,
   "id": "0e4b1ec5",
   "metadata": {},
   "outputs": [
    {
     "data": {
      "text/plain": [
       "(1, 100)"
      ]
     },
     "execution_count": 151,
     "metadata": {},
     "output_type": "execute_result"
    }
   ],
   "source": [
    "x_input=test_data[341:].reshape(1,-1)\n",
    "x_input.shape"
   ]
  },
  {
   "cell_type": "code",
   "execution_count": 152,
   "id": "a150d7b9",
   "metadata": {},
   "outputs": [],
   "source": [
    "temp_input=list(x_input)\n",
    "temp_input=temp_input[0].tolist()"
   ]
  },
  {
   "cell_type": "code",
   "execution_count": 153,
   "id": "285865f4",
   "metadata": {},
   "outputs": [
    {
     "data": {
      "text/plain": [
       "[0.07140889167188474,\n",
       " 0.07872260488415778,\n",
       " 0.08721352536005006,\n",
       " 0.08721352536005006,\n",
       " 0.07664370695053219,\n",
       " 0.08112711333750777,\n",
       " 0.07484032561051968,\n",
       " 0.08037570444583592,\n",
       " 0.08696305572949276,\n",
       " 0.09036944270507191,\n",
       " 0.09896055103318718,\n",
       " 0.10068879148403248,\n",
       " 0.09525360050093923,\n",
       " 0.0977332498434565,\n",
       " 0.09680651221039449,\n",
       " 0.10427050720100184,\n",
       " 0.10852849092047584,\n",
       " 0.1007639323731997,\n",
       " 0.11060738885410137,\n",
       " 0.11571696931747022,\n",
       " 0.12150281778334371,\n",
       " 0.1183469004383218,\n",
       " 0.11549154664996863,\n",
       " 0.11211020663744514,\n",
       " 0.12510958046336873,\n",
       " 0.12651221039448962,\n",
       " 0.139436443331246,\n",
       " 0.13693174702567307,\n",
       " 0.13317470256731367,\n",
       " 0.1485034439574201,\n",
       " 0.1477019411396368,\n",
       " 0.14654978083907322,\n",
       " 0.1453475266123982,\n",
       " 0.14547276142767684,\n",
       " 0.15629304946775202,\n",
       " 0.1544145272385723,\n",
       " 0.16345648090169063,\n",
       " 0.16618659987476514,\n",
       " 0.16578584846587346,\n",
       " 0.1695929868503444,\n",
       " 0.1685911083281152,\n",
       " 0.16200375704445835,\n",
       " 0.15211020663744512,\n",
       " 0.15125860989355033,\n",
       " 0.15201001878522225,\n",
       " 0.15827175954915462,\n",
       " 0.142216656230432,\n",
       " 0.1366061365059486,\n",
       " 0.13041953663118344,\n",
       " 0.12618659987476516,\n",
       " 0.12804007514088916,\n",
       " 0.1226549780839073,\n",
       " 0.1194489668127739,\n",
       " 0.12303068252974325,\n",
       " 0.1192736380713838,\n",
       " 0.12656230432060112,\n",
       " 0.14174076393237317,\n",
       " 0.1177207263619286,\n",
       " 0.12140262993112083,\n",
       " 0.11403882279273636,\n",
       " 0.10985597996242946,\n",
       " 0.11932373199749524,\n",
       " 0.1253850970569818,\n",
       " 0.1174201628052598,\n",
       " 0.11496556042579836,\n",
       " 0.10917971195992482,\n",
       " 0.11003130870381966,\n",
       " 0.11251095804633682,\n",
       " 0.10770194113963677,\n",
       " 0.08926737633061982,\n",
       " 0.07854727614276763,\n",
       " 0.08919223544145266,\n",
       " 0.09833437695679392,\n",
       " 0.09908578584846583,\n",
       " 0.09665623043206006,\n",
       " 0.08328115216030052,\n",
       " 0.08410770194113959,\n",
       " 0.08050093926111451,\n",
       " 0.07889793362554787,\n",
       " 0.09054477144646211,\n",
       " 0.07899812147777074,\n",
       " 0.08909204758922978,\n",
       " 0.0924483406386975,\n",
       " 0.09272385723231058,\n",
       " 0.09154664996869122,\n",
       " 0.1012648716343143,\n",
       " 0.10672510958046327,\n",
       " 0.11396368190356915,\n",
       " 0.10647463994990602,\n",
       " 0.09507827175954914,\n",
       " 0.1224796493425172,\n",
       " 0.11646837820914213,\n",
       " 0.10973074514715087,\n",
       " 0.0956543519098309,\n",
       " 0.08025046963055726,\n",
       " 0.07899812147777074,\n",
       " 0.08035065748278014,\n",
       " 0.08180338134001247,\n",
       " 0.07020663744520972,\n",
       " 0.10026299311208514]"
      ]
     },
     "execution_count": 153,
     "metadata": {},
     "output_type": "execute_result"
    }
   ],
   "source": [
    "temp_input"
   ]
  },
  {
   "cell_type": "code",
   "execution_count": 154,
   "id": "493e1149",
   "metadata": {},
   "outputs": [
    {
     "name": "stdout",
     "output_type": "stream",
     "text": [
      "[0.08796136]\n",
      "101\n",
      "1 day input [0.0787226  0.08721353 0.08721353 0.07664371 0.08112711 0.07484033\n",
      " 0.0803757  0.08696306 0.09036944 0.09896055 0.10068879 0.0952536\n",
      " 0.09773325 0.09680651 0.10427051 0.10852849 0.10076393 0.11060739\n",
      " 0.11571697 0.12150282 0.1183469  0.11549155 0.11211021 0.12510958\n",
      " 0.12651221 0.13943644 0.13693175 0.1331747  0.14850344 0.14770194\n",
      " 0.14654978 0.14534753 0.14547276 0.15629305 0.15441453 0.16345648\n",
      " 0.1661866  0.16578585 0.16959299 0.16859111 0.16200376 0.15211021\n",
      " 0.15125861 0.15201002 0.15827176 0.14221666 0.13660614 0.13041954\n",
      " 0.1261866  0.12804008 0.12265498 0.11944897 0.12303068 0.11927364\n",
      " 0.1265623  0.14174076 0.11772073 0.12140263 0.11403882 0.10985598\n",
      " 0.11932373 0.1253851  0.11742016 0.11496556 0.10917971 0.11003131\n",
      " 0.11251096 0.10770194 0.08926738 0.07854728 0.08919224 0.09833438\n",
      " 0.09908579 0.09665623 0.08328115 0.0841077  0.08050094 0.07889793\n",
      " 0.09054477 0.07899812 0.08909205 0.09244834 0.09272386 0.09154665\n",
      " 0.10126487 0.10672511 0.11396368 0.10647464 0.09507827 0.12247965\n",
      " 0.11646838 0.10973075 0.09565435 0.08025047 0.07899812 0.08035066\n",
      " 0.08180338 0.07020664 0.10026299 0.08796136]\n",
      "1 day output [[0.08604603]]\n",
      "2 day input [0.08721353 0.08721353 0.07664371 0.08112711 0.07484033 0.0803757\n",
      " 0.08696306 0.09036944 0.09896055 0.10068879 0.0952536  0.09773325\n",
      " 0.09680651 0.10427051 0.10852849 0.10076393 0.11060739 0.11571697\n",
      " 0.12150282 0.1183469  0.11549155 0.11211021 0.12510958 0.12651221\n",
      " 0.13943644 0.13693175 0.1331747  0.14850344 0.14770194 0.14654978\n",
      " 0.14534753 0.14547276 0.15629305 0.15441453 0.16345648 0.1661866\n",
      " 0.16578585 0.16959299 0.16859111 0.16200376 0.15211021 0.15125861\n",
      " 0.15201002 0.15827176 0.14221666 0.13660614 0.13041954 0.1261866\n",
      " 0.12804008 0.12265498 0.11944897 0.12303068 0.11927364 0.1265623\n",
      " 0.14174076 0.11772073 0.12140263 0.11403882 0.10985598 0.11932373\n",
      " 0.1253851  0.11742016 0.11496556 0.10917971 0.11003131 0.11251096\n",
      " 0.10770194 0.08926738 0.07854728 0.08919224 0.09833438 0.09908579\n",
      " 0.09665623 0.08328115 0.0841077  0.08050094 0.07889793 0.09054477\n",
      " 0.07899812 0.08909205 0.09244834 0.09272386 0.09154665 0.10126487\n",
      " 0.10672511 0.11396368 0.10647464 0.09507827 0.12247965 0.11646838\n",
      " 0.10973075 0.09565435 0.08025047 0.07899812 0.08035066 0.08180338\n",
      " 0.07020664 0.10026299 0.08796136 0.08604603]\n",
      "2 day output [[0.08472179]]\n",
      "3 day input [0.08721353 0.07664371 0.08112711 0.07484033 0.0803757  0.08696306\n",
      " 0.09036944 0.09896055 0.10068879 0.0952536  0.09773325 0.09680651\n",
      " 0.10427051 0.10852849 0.10076393 0.11060739 0.11571697 0.12150282\n",
      " 0.1183469  0.11549155 0.11211021 0.12510958 0.12651221 0.13943644\n",
      " 0.13693175 0.1331747  0.14850344 0.14770194 0.14654978 0.14534753\n",
      " 0.14547276 0.15629305 0.15441453 0.16345648 0.1661866  0.16578585\n",
      " 0.16959299 0.16859111 0.16200376 0.15211021 0.15125861 0.15201002\n",
      " 0.15827176 0.14221666 0.13660614 0.13041954 0.1261866  0.12804008\n",
      " 0.12265498 0.11944897 0.12303068 0.11927364 0.1265623  0.14174076\n",
      " 0.11772073 0.12140263 0.11403882 0.10985598 0.11932373 0.1253851\n",
      " 0.11742016 0.11496556 0.10917971 0.11003131 0.11251096 0.10770194\n",
      " 0.08926738 0.07854728 0.08919224 0.09833438 0.09908579 0.09665623\n",
      " 0.08328115 0.0841077  0.08050094 0.07889793 0.09054477 0.07899812\n",
      " 0.08909205 0.09244834 0.09272386 0.09154665 0.10126487 0.10672511\n",
      " 0.11396368 0.10647464 0.09507827 0.12247965 0.11646838 0.10973075\n",
      " 0.09565435 0.08025047 0.07899812 0.08035066 0.08180338 0.07020664\n",
      " 0.10026299 0.08796136 0.08604603 0.08472179]\n",
      "3 day output [[0.08380347]]\n",
      "4 day input [0.07664371 0.08112711 0.07484033 0.0803757  0.08696306 0.09036944\n",
      " 0.09896055 0.10068879 0.0952536  0.09773325 0.09680651 0.10427051\n",
      " 0.10852849 0.10076393 0.11060739 0.11571697 0.12150282 0.1183469\n",
      " 0.11549155 0.11211021 0.12510958 0.12651221 0.13943644 0.13693175\n",
      " 0.1331747  0.14850344 0.14770194 0.14654978 0.14534753 0.14547276\n",
      " 0.15629305 0.15441453 0.16345648 0.1661866  0.16578585 0.16959299\n",
      " 0.16859111 0.16200376 0.15211021 0.15125861 0.15201002 0.15827176\n",
      " 0.14221666 0.13660614 0.13041954 0.1261866  0.12804008 0.12265498\n",
      " 0.11944897 0.12303068 0.11927364 0.1265623  0.14174076 0.11772073\n",
      " 0.12140263 0.11403882 0.10985598 0.11932373 0.1253851  0.11742016\n",
      " 0.11496556 0.10917971 0.11003131 0.11251096 0.10770194 0.08926738\n",
      " 0.07854728 0.08919224 0.09833438 0.09908579 0.09665623 0.08328115\n",
      " 0.0841077  0.08050094 0.07889793 0.09054477 0.07899812 0.08909205\n",
      " 0.09244834 0.09272386 0.09154665 0.10126487 0.10672511 0.11396368\n",
      " 0.10647464 0.09507827 0.12247965 0.11646838 0.10973075 0.09565435\n",
      " 0.08025047 0.07899812 0.08035066 0.08180338 0.07020664 0.10026299\n",
      " 0.08796136 0.08604603 0.08472179 0.08380347]\n",
      "4 day output [[0.08316907]]\n",
      "5 day input [0.08112711 0.07484033 0.0803757  0.08696306 0.09036944 0.09896055\n",
      " 0.10068879 0.0952536  0.09773325 0.09680651 0.10427051 0.10852849\n",
      " 0.10076393 0.11060739 0.11571697 0.12150282 0.1183469  0.11549155\n",
      " 0.11211021 0.12510958 0.12651221 0.13943644 0.13693175 0.1331747\n",
      " 0.14850344 0.14770194 0.14654978 0.14534753 0.14547276 0.15629305\n",
      " 0.15441453 0.16345648 0.1661866  0.16578585 0.16959299 0.16859111\n",
      " 0.16200376 0.15211021 0.15125861 0.15201002 0.15827176 0.14221666\n",
      " 0.13660614 0.13041954 0.1261866  0.12804008 0.12265498 0.11944897\n",
      " 0.12303068 0.11927364 0.1265623  0.14174076 0.11772073 0.12140263\n",
      " 0.11403882 0.10985598 0.11932373 0.1253851  0.11742016 0.11496556\n",
      " 0.10917971 0.11003131 0.11251096 0.10770194 0.08926738 0.07854728\n",
      " 0.08919224 0.09833438 0.09908579 0.09665623 0.08328115 0.0841077\n",
      " 0.08050094 0.07889793 0.09054477 0.07899812 0.08909205 0.09244834\n",
      " 0.09272386 0.09154665 0.10126487 0.10672511 0.11396368 0.10647464\n",
      " 0.09507827 0.12247965 0.11646838 0.10973075 0.09565435 0.08025047\n",
      " 0.07899812 0.08035066 0.08180338 0.07020664 0.10026299 0.08796136\n",
      " 0.08604603 0.08472179 0.08380347 0.08316907]\n",
      "5 day output [[0.08274444]]\n",
      "6 day input [0.07484033 0.0803757  0.08696306 0.09036944 0.09896055 0.10068879\n",
      " 0.0952536  0.09773325 0.09680651 0.10427051 0.10852849 0.10076393\n",
      " 0.11060739 0.11571697 0.12150282 0.1183469  0.11549155 0.11211021\n",
      " 0.12510958 0.12651221 0.13943644 0.13693175 0.1331747  0.14850344\n",
      " 0.14770194 0.14654978 0.14534753 0.14547276 0.15629305 0.15441453\n",
      " 0.16345648 0.1661866  0.16578585 0.16959299 0.16859111 0.16200376\n",
      " 0.15211021 0.15125861 0.15201002 0.15827176 0.14221666 0.13660614\n",
      " 0.13041954 0.1261866  0.12804008 0.12265498 0.11944897 0.12303068\n",
      " 0.11927364 0.1265623  0.14174076 0.11772073 0.12140263 0.11403882\n",
      " 0.10985598 0.11932373 0.1253851  0.11742016 0.11496556 0.10917971\n",
      " 0.11003131 0.11251096 0.10770194 0.08926738 0.07854728 0.08919224\n",
      " 0.09833438 0.09908579 0.09665623 0.08328115 0.0841077  0.08050094\n",
      " 0.07889793 0.09054477 0.07899812 0.08909205 0.09244834 0.09272386\n",
      " 0.09154665 0.10126487 0.10672511 0.11396368 0.10647464 0.09507827\n",
      " 0.12247965 0.11646838 0.10973075 0.09565435 0.08025047 0.07899812\n",
      " 0.08035066 0.08180338 0.07020664 0.10026299 0.08796136 0.08604603\n",
      " 0.08472179 0.08380347 0.08316907 0.08274444]\n",
      "6 day output [[0.08248416]]\n",
      "7 day input [0.0803757  0.08696306 0.09036944 0.09896055 0.10068879 0.0952536\n",
      " 0.09773325 0.09680651 0.10427051 0.10852849 0.10076393 0.11060739\n",
      " 0.11571697 0.12150282 0.1183469  0.11549155 0.11211021 0.12510958\n",
      " 0.12651221 0.13943644 0.13693175 0.1331747  0.14850344 0.14770194\n",
      " 0.14654978 0.14534753 0.14547276 0.15629305 0.15441453 0.16345648\n",
      " 0.1661866  0.16578585 0.16959299 0.16859111 0.16200376 0.15211021\n",
      " 0.15125861 0.15201002 0.15827176 0.14221666 0.13660614 0.13041954\n",
      " 0.1261866  0.12804008 0.12265498 0.11944897 0.12303068 0.11927364\n",
      " 0.1265623  0.14174076 0.11772073 0.12140263 0.11403882 0.10985598\n",
      " 0.11932373 0.1253851  0.11742016 0.11496556 0.10917971 0.11003131\n",
      " 0.11251096 0.10770194 0.08926738 0.07854728 0.08919224 0.09833438\n",
      " 0.09908579 0.09665623 0.08328115 0.0841077  0.08050094 0.07889793\n",
      " 0.09054477 0.07899812 0.08909205 0.09244834 0.09272386 0.09154665\n",
      " 0.10126487 0.10672511 0.11396368 0.10647464 0.09507827 0.12247965\n",
      " 0.11646838 0.10973075 0.09565435 0.08025047 0.07899812 0.08035066\n",
      " 0.08180338 0.07020664 0.10026299 0.08796136 0.08604603 0.08472179\n",
      " 0.08380347 0.08316907 0.08274444 0.08248416]\n",
      "7 day output [[0.08235693]]\n",
      "8 day input [0.08696306 0.09036944 0.09896055 0.10068879 0.0952536  0.09773325\n",
      " 0.09680651 0.10427051 0.10852849 0.10076393 0.11060739 0.11571697\n",
      " 0.12150282 0.1183469  0.11549155 0.11211021 0.12510958 0.12651221\n",
      " 0.13943644 0.13693175 0.1331747  0.14850344 0.14770194 0.14654978\n",
      " 0.14534753 0.14547276 0.15629305 0.15441453 0.16345648 0.1661866\n",
      " 0.16578585 0.16959299 0.16859111 0.16200376 0.15211021 0.15125861\n",
      " 0.15201002 0.15827176 0.14221666 0.13660614 0.13041954 0.1261866\n",
      " 0.12804008 0.12265498 0.11944897 0.12303068 0.11927364 0.1265623\n",
      " 0.14174076 0.11772073 0.12140263 0.11403882 0.10985598 0.11932373\n",
      " 0.1253851  0.11742016 0.11496556 0.10917971 0.11003131 0.11251096\n",
      " 0.10770194 0.08926738 0.07854728 0.08919224 0.09833438 0.09908579\n",
      " 0.09665623 0.08328115 0.0841077  0.08050094 0.07889793 0.09054477\n",
      " 0.07899812 0.08909205 0.09244834 0.09272386 0.09154665 0.10126487\n",
      " 0.10672511 0.11396368 0.10647464 0.09507827 0.12247965 0.11646838\n",
      " 0.10973075 0.09565435 0.08025047 0.07899812 0.08035066 0.08180338\n",
      " 0.07020664 0.10026299 0.08796136 0.08604603 0.08472179 0.08380347\n",
      " 0.08316907 0.08274444 0.08248416 0.08235693]\n",
      "8 day output [[0.0823371]]\n",
      "9 day input [0.09036944 0.09896055 0.10068879 0.0952536  0.09773325 0.09680651\n",
      " 0.10427051 0.10852849 0.10076393 0.11060739 0.11571697 0.12150282\n",
      " 0.1183469  0.11549155 0.11211021 0.12510958 0.12651221 0.13943644\n",
      " 0.13693175 0.1331747  0.14850344 0.14770194 0.14654978 0.14534753\n",
      " 0.14547276 0.15629305 0.15441453 0.16345648 0.1661866  0.16578585\n",
      " 0.16959299 0.16859111 0.16200376 0.15211021 0.15125861 0.15201002\n",
      " 0.15827176 0.14221666 0.13660614 0.13041954 0.1261866  0.12804008\n",
      " 0.12265498 0.11944897 0.12303068 0.11927364 0.1265623  0.14174076\n",
      " 0.11772073 0.12140263 0.11403882 0.10985598 0.11932373 0.1253851\n",
      " 0.11742016 0.11496556 0.10917971 0.11003131 0.11251096 0.10770194\n",
      " 0.08926738 0.07854728 0.08919224 0.09833438 0.09908579 0.09665623\n",
      " 0.08328115 0.0841077  0.08050094 0.07889793 0.09054477 0.07899812\n",
      " 0.08909205 0.09244834 0.09272386 0.09154665 0.10126487 0.10672511\n",
      " 0.11396368 0.10647464 0.09507827 0.12247965 0.11646838 0.10973075\n",
      " 0.09565435 0.08025047 0.07899812 0.08035066 0.08180338 0.07020664\n",
      " 0.10026299 0.08796136 0.08604603 0.08472179 0.08380347 0.08316907\n",
      " 0.08274444 0.08248416 0.08235693 0.0823371 ]\n",
      "9 day output [[0.08240074]]\n",
      "10 day input [0.09896055 0.10068879 0.0952536  0.09773325 0.09680651 0.10427051\n",
      " 0.10852849 0.10076393 0.11060739 0.11571697 0.12150282 0.1183469\n",
      " 0.11549155 0.11211021 0.12510958 0.12651221 0.13943644 0.13693175\n",
      " 0.1331747  0.14850344 0.14770194 0.14654978 0.14534753 0.14547276\n",
      " 0.15629305 0.15441453 0.16345648 0.1661866  0.16578585 0.16959299\n",
      " 0.16859111 0.16200376 0.15211021 0.15125861 0.15201002 0.15827176\n",
      " 0.14221666 0.13660614 0.13041954 0.1261866  0.12804008 0.12265498\n",
      " 0.11944897 0.12303068 0.11927364 0.1265623  0.14174076 0.11772073\n",
      " 0.12140263 0.11403882 0.10985598 0.11932373 0.1253851  0.11742016\n",
      " 0.11496556 0.10917971 0.11003131 0.11251096 0.10770194 0.08926738\n",
      " 0.07854728 0.08919224 0.09833438 0.09908579 0.09665623 0.08328115\n",
      " 0.0841077  0.08050094 0.07889793 0.09054477 0.07899812 0.08909205\n",
      " 0.09244834 0.09272386 0.09154665 0.10126487 0.10672511 0.11396368\n",
      " 0.10647464 0.09507827 0.12247965 0.11646838 0.10973075 0.09565435\n",
      " 0.08025047 0.07899812 0.08035066 0.08180338 0.07020664 0.10026299\n",
      " 0.08796136 0.08604603 0.08472179 0.08380347 0.08316907 0.08274444\n",
      " 0.08248416 0.08235693 0.0823371  0.08240074]\n"
     ]
    },
    {
     "name": "stdout",
     "output_type": "stream",
     "text": [
      "10 day output [[0.08252466]]\n",
      "11 day input [0.10068879 0.0952536  0.09773325 0.09680651 0.10427051 0.10852849\n",
      " 0.10076393 0.11060739 0.11571697 0.12150282 0.1183469  0.11549155\n",
      " 0.11211021 0.12510958 0.12651221 0.13943644 0.13693175 0.1331747\n",
      " 0.14850344 0.14770194 0.14654978 0.14534753 0.14547276 0.15629305\n",
      " 0.15441453 0.16345648 0.1661866  0.16578585 0.16959299 0.16859111\n",
      " 0.16200376 0.15211021 0.15125861 0.15201002 0.15827176 0.14221666\n",
      " 0.13660614 0.13041954 0.1261866  0.12804008 0.12265498 0.11944897\n",
      " 0.12303068 0.11927364 0.1265623  0.14174076 0.11772073 0.12140263\n",
      " 0.11403882 0.10985598 0.11932373 0.1253851  0.11742016 0.11496556\n",
      " 0.10917971 0.11003131 0.11251096 0.10770194 0.08926738 0.07854728\n",
      " 0.08919224 0.09833438 0.09908579 0.09665623 0.08328115 0.0841077\n",
      " 0.08050094 0.07889793 0.09054477 0.07899812 0.08909205 0.09244834\n",
      " 0.09272386 0.09154665 0.10126487 0.10672511 0.11396368 0.10647464\n",
      " 0.09507827 0.12247965 0.11646838 0.10973075 0.09565435 0.08025047\n",
      " 0.07899812 0.08035066 0.08180338 0.07020664 0.10026299 0.08796136\n",
      " 0.08604603 0.08472179 0.08380347 0.08316907 0.08274444 0.08248416\n",
      " 0.08235693 0.0823371  0.08240074 0.08252466]\n",
      "11 day output [[0.08268683]]\n",
      "12 day input [0.0952536  0.09773325 0.09680651 0.10427051 0.10852849 0.10076393\n",
      " 0.11060739 0.11571697 0.12150282 0.1183469  0.11549155 0.11211021\n",
      " 0.12510958 0.12651221 0.13943644 0.13693175 0.1331747  0.14850344\n",
      " 0.14770194 0.14654978 0.14534753 0.14547276 0.15629305 0.15441453\n",
      " 0.16345648 0.1661866  0.16578585 0.16959299 0.16859111 0.16200376\n",
      " 0.15211021 0.15125861 0.15201002 0.15827176 0.14221666 0.13660614\n",
      " 0.13041954 0.1261866  0.12804008 0.12265498 0.11944897 0.12303068\n",
      " 0.11927364 0.1265623  0.14174076 0.11772073 0.12140263 0.11403882\n",
      " 0.10985598 0.11932373 0.1253851  0.11742016 0.11496556 0.10917971\n",
      " 0.11003131 0.11251096 0.10770194 0.08926738 0.07854728 0.08919224\n",
      " 0.09833438 0.09908579 0.09665623 0.08328115 0.0841077  0.08050094\n",
      " 0.07889793 0.09054477 0.07899812 0.08909205 0.09244834 0.09272386\n",
      " 0.09154665 0.10126487 0.10672511 0.11396368 0.10647464 0.09507827\n",
      " 0.12247965 0.11646838 0.10973075 0.09565435 0.08025047 0.07899812\n",
      " 0.08035066 0.08180338 0.07020664 0.10026299 0.08796136 0.08604603\n",
      " 0.08472179 0.08380347 0.08316907 0.08274444 0.08248416 0.08235693\n",
      " 0.0823371  0.08240074 0.08252466 0.08268683]\n",
      "12 day output [[0.0828672]]\n",
      "13 day input [0.09773325 0.09680651 0.10427051 0.10852849 0.10076393 0.11060739\n",
      " 0.11571697 0.12150282 0.1183469  0.11549155 0.11211021 0.12510958\n",
      " 0.12651221 0.13943644 0.13693175 0.1331747  0.14850344 0.14770194\n",
      " 0.14654978 0.14534753 0.14547276 0.15629305 0.15441453 0.16345648\n",
      " 0.1661866  0.16578585 0.16959299 0.16859111 0.16200376 0.15211021\n",
      " 0.15125861 0.15201002 0.15827176 0.14221666 0.13660614 0.13041954\n",
      " 0.1261866  0.12804008 0.12265498 0.11944897 0.12303068 0.11927364\n",
      " 0.1265623  0.14174076 0.11772073 0.12140263 0.11403882 0.10985598\n",
      " 0.11932373 0.1253851  0.11742016 0.11496556 0.10917971 0.11003131\n",
      " 0.11251096 0.10770194 0.08926738 0.07854728 0.08919224 0.09833438\n",
      " 0.09908579 0.09665623 0.08328115 0.0841077  0.08050094 0.07889793\n",
      " 0.09054477 0.07899812 0.08909205 0.09244834 0.09272386 0.09154665\n",
      " 0.10126487 0.10672511 0.11396368 0.10647464 0.09507827 0.12247965\n",
      " 0.11646838 0.10973075 0.09565435 0.08025047 0.07899812 0.08035066\n",
      " 0.08180338 0.07020664 0.10026299 0.08796136 0.08604603 0.08472179\n",
      " 0.08380347 0.08316907 0.08274444 0.08248416 0.08235693 0.0823371\n",
      " 0.08240074 0.08252466 0.08268683 0.0828672 ]\n",
      "13 day output [[0.08304849]]\n",
      "14 day input [0.09680651 0.10427051 0.10852849 0.10076393 0.11060739 0.11571697\n",
      " 0.12150282 0.1183469  0.11549155 0.11211021 0.12510958 0.12651221\n",
      " 0.13943644 0.13693175 0.1331747  0.14850344 0.14770194 0.14654978\n",
      " 0.14534753 0.14547276 0.15629305 0.15441453 0.16345648 0.1661866\n",
      " 0.16578585 0.16959299 0.16859111 0.16200376 0.15211021 0.15125861\n",
      " 0.15201002 0.15827176 0.14221666 0.13660614 0.13041954 0.1261866\n",
      " 0.12804008 0.12265498 0.11944897 0.12303068 0.11927364 0.1265623\n",
      " 0.14174076 0.11772073 0.12140263 0.11403882 0.10985598 0.11932373\n",
      " 0.1253851  0.11742016 0.11496556 0.10917971 0.11003131 0.11251096\n",
      " 0.10770194 0.08926738 0.07854728 0.08919224 0.09833438 0.09908579\n",
      " 0.09665623 0.08328115 0.0841077  0.08050094 0.07889793 0.09054477\n",
      " 0.07899812 0.08909205 0.09244834 0.09272386 0.09154665 0.10126487\n",
      " 0.10672511 0.11396368 0.10647464 0.09507827 0.12247965 0.11646838\n",
      " 0.10973075 0.09565435 0.08025047 0.07899812 0.08035066 0.08180338\n",
      " 0.07020664 0.10026299 0.08796136 0.08604603 0.08472179 0.08380347\n",
      " 0.08316907 0.08274444 0.08248416 0.08235693 0.0823371  0.08240074\n",
      " 0.08252466 0.08268683 0.0828672  0.08304849]\n",
      "14 day output [[0.08321673]]\n",
      "15 day input [0.10427051 0.10852849 0.10076393 0.11060739 0.11571697 0.12150282\n",
      " 0.1183469  0.11549155 0.11211021 0.12510958 0.12651221 0.13943644\n",
      " 0.13693175 0.1331747  0.14850344 0.14770194 0.14654978 0.14534753\n",
      " 0.14547276 0.15629305 0.15441453 0.16345648 0.1661866  0.16578585\n",
      " 0.16959299 0.16859111 0.16200376 0.15211021 0.15125861 0.15201002\n",
      " 0.15827176 0.14221666 0.13660614 0.13041954 0.1261866  0.12804008\n",
      " 0.12265498 0.11944897 0.12303068 0.11927364 0.1265623  0.14174076\n",
      " 0.11772073 0.12140263 0.11403882 0.10985598 0.11932373 0.1253851\n",
      " 0.11742016 0.11496556 0.10917971 0.11003131 0.11251096 0.10770194\n",
      " 0.08926738 0.07854728 0.08919224 0.09833438 0.09908579 0.09665623\n",
      " 0.08328115 0.0841077  0.08050094 0.07889793 0.09054477 0.07899812\n",
      " 0.08909205 0.09244834 0.09272386 0.09154665 0.10126487 0.10672511\n",
      " 0.11396368 0.10647464 0.09507827 0.12247965 0.11646838 0.10973075\n",
      " 0.09565435 0.08025047 0.07899812 0.08035066 0.08180338 0.07020664\n",
      " 0.10026299 0.08796136 0.08604603 0.08472179 0.08380347 0.08316907\n",
      " 0.08274444 0.08248416 0.08235693 0.0823371  0.08240074 0.08252466\n",
      " 0.08268683 0.0828672  0.08304849 0.08321673]\n",
      "15 day output [[0.08336136]]\n",
      "16 day input [0.10852849 0.10076393 0.11060739 0.11571697 0.12150282 0.1183469\n",
      " 0.11549155 0.11211021 0.12510958 0.12651221 0.13943644 0.13693175\n",
      " 0.1331747  0.14850344 0.14770194 0.14654978 0.14534753 0.14547276\n",
      " 0.15629305 0.15441453 0.16345648 0.1661866  0.16578585 0.16959299\n",
      " 0.16859111 0.16200376 0.15211021 0.15125861 0.15201002 0.15827176\n",
      " 0.14221666 0.13660614 0.13041954 0.1261866  0.12804008 0.12265498\n",
      " 0.11944897 0.12303068 0.11927364 0.1265623  0.14174076 0.11772073\n",
      " 0.12140263 0.11403882 0.10985598 0.11932373 0.1253851  0.11742016\n",
      " 0.11496556 0.10917971 0.11003131 0.11251096 0.10770194 0.08926738\n",
      " 0.07854728 0.08919224 0.09833438 0.09908579 0.09665623 0.08328115\n",
      " 0.0841077  0.08050094 0.07889793 0.09054477 0.07899812 0.08909205\n",
      " 0.09244834 0.09272386 0.09154665 0.10126487 0.10672511 0.11396368\n",
      " 0.10647464 0.09507827 0.12247965 0.11646838 0.10973075 0.09565435\n",
      " 0.08025047 0.07899812 0.08035066 0.08180338 0.07020664 0.10026299\n",
      " 0.08796136 0.08604603 0.08472179 0.08380347 0.08316907 0.08274444\n",
      " 0.08248416 0.08235693 0.0823371  0.08240074 0.08252466 0.08268683\n",
      " 0.0828672  0.08304849 0.08321673 0.08336136]\n",
      "16 day output [[0.08347522]]\n",
      "17 day input [0.10076393 0.11060739 0.11571697 0.12150282 0.1183469  0.11549155\n",
      " 0.11211021 0.12510958 0.12651221 0.13943644 0.13693175 0.1331747\n",
      " 0.14850344 0.14770194 0.14654978 0.14534753 0.14547276 0.15629305\n",
      " 0.15441453 0.16345648 0.1661866  0.16578585 0.16959299 0.16859111\n",
      " 0.16200376 0.15211021 0.15125861 0.15201002 0.15827176 0.14221666\n",
      " 0.13660614 0.13041954 0.1261866  0.12804008 0.12265498 0.11944897\n",
      " 0.12303068 0.11927364 0.1265623  0.14174076 0.11772073 0.12140263\n",
      " 0.11403882 0.10985598 0.11932373 0.1253851  0.11742016 0.11496556\n",
      " 0.10917971 0.11003131 0.11251096 0.10770194 0.08926738 0.07854728\n",
      " 0.08919224 0.09833438 0.09908579 0.09665623 0.08328115 0.0841077\n",
      " 0.08050094 0.07889793 0.09054477 0.07899812 0.08909205 0.09244834\n",
      " 0.09272386 0.09154665 0.10126487 0.10672511 0.11396368 0.10647464\n",
      " 0.09507827 0.12247965 0.11646838 0.10973075 0.09565435 0.08025047\n",
      " 0.07899812 0.08035066 0.08180338 0.07020664 0.10026299 0.08796136\n",
      " 0.08604603 0.08472179 0.08380347 0.08316907 0.08274444 0.08248416\n",
      " 0.08235693 0.0823371  0.08240074 0.08252466 0.08268683 0.0828672\n",
      " 0.08304849 0.08321673 0.08336136 0.08347522]\n",
      "17 day output [[0.08355419]]\n",
      "18 day input [0.11060739 0.11571697 0.12150282 0.1183469  0.11549155 0.11211021\n",
      " 0.12510958 0.12651221 0.13943644 0.13693175 0.1331747  0.14850344\n",
      " 0.14770194 0.14654978 0.14534753 0.14547276 0.15629305 0.15441453\n",
      " 0.16345648 0.1661866  0.16578585 0.16959299 0.16859111 0.16200376\n",
      " 0.15211021 0.15125861 0.15201002 0.15827176 0.14221666 0.13660614\n",
      " 0.13041954 0.1261866  0.12804008 0.12265498 0.11944897 0.12303068\n",
      " 0.11927364 0.1265623  0.14174076 0.11772073 0.12140263 0.11403882\n",
      " 0.10985598 0.11932373 0.1253851  0.11742016 0.11496556 0.10917971\n",
      " 0.11003131 0.11251096 0.10770194 0.08926738 0.07854728 0.08919224\n",
      " 0.09833438 0.09908579 0.09665623 0.08328115 0.0841077  0.08050094\n",
      " 0.07889793 0.09054477 0.07899812 0.08909205 0.09244834 0.09272386\n",
      " 0.09154665 0.10126487 0.10672511 0.11396368 0.10647464 0.09507827\n",
      " 0.12247965 0.11646838 0.10973075 0.09565435 0.08025047 0.07899812\n",
      " 0.08035066 0.08180338 0.07020664 0.10026299 0.08796136 0.08604603\n",
      " 0.08472179 0.08380347 0.08316907 0.08274444 0.08248416 0.08235693\n",
      " 0.0823371  0.08240074 0.08252466 0.08268683 0.0828672  0.08304849\n",
      " 0.08321673 0.08336136 0.08347522 0.08355419]\n",
      "18 day output [[0.08359678]]\n",
      "19 day input [0.11571697 0.12150282 0.1183469  0.11549155 0.11211021 0.12510958\n",
      " 0.12651221 0.13943644 0.13693175 0.1331747  0.14850344 0.14770194\n",
      " 0.14654978 0.14534753 0.14547276 0.15629305 0.15441453 0.16345648\n",
      " 0.1661866  0.16578585 0.16959299 0.16859111 0.16200376 0.15211021\n",
      " 0.15125861 0.15201002 0.15827176 0.14221666 0.13660614 0.13041954\n",
      " 0.1261866  0.12804008 0.12265498 0.11944897 0.12303068 0.11927364\n",
      " 0.1265623  0.14174076 0.11772073 0.12140263 0.11403882 0.10985598\n",
      " 0.11932373 0.1253851  0.11742016 0.11496556 0.10917971 0.11003131\n",
      " 0.11251096 0.10770194 0.08926738 0.07854728 0.08919224 0.09833438\n",
      " 0.09908579 0.09665623 0.08328115 0.0841077  0.08050094 0.07889793\n",
      " 0.09054477 0.07899812 0.08909205 0.09244834 0.09272386 0.09154665\n",
      " 0.10126487 0.10672511 0.11396368 0.10647464 0.09507827 0.12247965\n",
      " 0.11646838 0.10973075 0.09565435 0.08025047 0.07899812 0.08035066\n",
      " 0.08180338 0.07020664 0.10026299 0.08796136 0.08604603 0.08472179\n",
      " 0.08380347 0.08316907 0.08274444 0.08248416 0.08235693 0.0823371\n",
      " 0.08240074 0.08252466 0.08268683 0.0828672  0.08304849 0.08321673\n",
      " 0.08336136 0.08347522 0.08355419 0.08359678]\n"
     ]
    },
    {
     "name": "stdout",
     "output_type": "stream",
     "text": [
      "19 day output [[0.08360377]]\n",
      "20 day input [0.12150282 0.1183469  0.11549155 0.11211021 0.12510958 0.12651221\n",
      " 0.13943644 0.13693175 0.1331747  0.14850344 0.14770194 0.14654978\n",
      " 0.14534753 0.14547276 0.15629305 0.15441453 0.16345648 0.1661866\n",
      " 0.16578585 0.16959299 0.16859111 0.16200376 0.15211021 0.15125861\n",
      " 0.15201002 0.15827176 0.14221666 0.13660614 0.13041954 0.1261866\n",
      " 0.12804008 0.12265498 0.11944897 0.12303068 0.11927364 0.1265623\n",
      " 0.14174076 0.11772073 0.12140263 0.11403882 0.10985598 0.11932373\n",
      " 0.1253851  0.11742016 0.11496556 0.10917971 0.11003131 0.11251096\n",
      " 0.10770194 0.08926738 0.07854728 0.08919224 0.09833438 0.09908579\n",
      " 0.09665623 0.08328115 0.0841077  0.08050094 0.07889793 0.09054477\n",
      " 0.07899812 0.08909205 0.09244834 0.09272386 0.09154665 0.10126487\n",
      " 0.10672511 0.11396368 0.10647464 0.09507827 0.12247965 0.11646838\n",
      " 0.10973075 0.09565435 0.08025047 0.07899812 0.08035066 0.08180338\n",
      " 0.07020664 0.10026299 0.08796136 0.08604603 0.08472179 0.08380347\n",
      " 0.08316907 0.08274444 0.08248416 0.08235693 0.0823371  0.08240074\n",
      " 0.08252466 0.08268683 0.0828672  0.08304849 0.08321673 0.08336136\n",
      " 0.08347522 0.08355419 0.08359678 0.08360377]\n",
      "20 day output [[0.0835776]]\n",
      "21 day input [0.1183469  0.11549155 0.11211021 0.12510958 0.12651221 0.13943644\n",
      " 0.13693175 0.1331747  0.14850344 0.14770194 0.14654978 0.14534753\n",
      " 0.14547276 0.15629305 0.15441453 0.16345648 0.1661866  0.16578585\n",
      " 0.16959299 0.16859111 0.16200376 0.15211021 0.15125861 0.15201002\n",
      " 0.15827176 0.14221666 0.13660614 0.13041954 0.1261866  0.12804008\n",
      " 0.12265498 0.11944897 0.12303068 0.11927364 0.1265623  0.14174076\n",
      " 0.11772073 0.12140263 0.11403882 0.10985598 0.11932373 0.1253851\n",
      " 0.11742016 0.11496556 0.10917971 0.11003131 0.11251096 0.10770194\n",
      " 0.08926738 0.07854728 0.08919224 0.09833438 0.09908579 0.09665623\n",
      " 0.08328115 0.0841077  0.08050094 0.07889793 0.09054477 0.07899812\n",
      " 0.08909205 0.09244834 0.09272386 0.09154665 0.10126487 0.10672511\n",
      " 0.11396368 0.10647464 0.09507827 0.12247965 0.11646838 0.10973075\n",
      " 0.09565435 0.08025047 0.07899812 0.08035066 0.08180338 0.07020664\n",
      " 0.10026299 0.08796136 0.08604603 0.08472179 0.08380347 0.08316907\n",
      " 0.08274444 0.08248416 0.08235693 0.0823371  0.08240074 0.08252466\n",
      " 0.08268683 0.0828672  0.08304849 0.08321673 0.08336136 0.08347522\n",
      " 0.08355419 0.08359678 0.08360377 0.0835776 ]\n",
      "21 day output [[0.08352198]]\n",
      "22 day input [0.11549155 0.11211021 0.12510958 0.12651221 0.13943644 0.13693175\n",
      " 0.1331747  0.14850344 0.14770194 0.14654978 0.14534753 0.14547276\n",
      " 0.15629305 0.15441453 0.16345648 0.1661866  0.16578585 0.16959299\n",
      " 0.16859111 0.16200376 0.15211021 0.15125861 0.15201002 0.15827176\n",
      " 0.14221666 0.13660614 0.13041954 0.1261866  0.12804008 0.12265498\n",
      " 0.11944897 0.12303068 0.11927364 0.1265623  0.14174076 0.11772073\n",
      " 0.12140263 0.11403882 0.10985598 0.11932373 0.1253851  0.11742016\n",
      " 0.11496556 0.10917971 0.11003131 0.11251096 0.10770194 0.08926738\n",
      " 0.07854728 0.08919224 0.09833438 0.09908579 0.09665623 0.08328115\n",
      " 0.0841077  0.08050094 0.07889793 0.09054477 0.07899812 0.08909205\n",
      " 0.09244834 0.09272386 0.09154665 0.10126487 0.10672511 0.11396368\n",
      " 0.10647464 0.09507827 0.12247965 0.11646838 0.10973075 0.09565435\n",
      " 0.08025047 0.07899812 0.08035066 0.08180338 0.07020664 0.10026299\n",
      " 0.08796136 0.08604603 0.08472179 0.08380347 0.08316907 0.08274444\n",
      " 0.08248416 0.08235693 0.0823371  0.08240074 0.08252466 0.08268683\n",
      " 0.0828672  0.08304849 0.08321673 0.08336136 0.08347522 0.08355419\n",
      " 0.08359678 0.08360377 0.0835776  0.08352198]\n",
      "22 day output [[0.08344147]]\n",
      "23 day input [0.11211021 0.12510958 0.12651221 0.13943644 0.13693175 0.1331747\n",
      " 0.14850344 0.14770194 0.14654978 0.14534753 0.14547276 0.15629305\n",
      " 0.15441453 0.16345648 0.1661866  0.16578585 0.16959299 0.16859111\n",
      " 0.16200376 0.15211021 0.15125861 0.15201002 0.15827176 0.14221666\n",
      " 0.13660614 0.13041954 0.1261866  0.12804008 0.12265498 0.11944897\n",
      " 0.12303068 0.11927364 0.1265623  0.14174076 0.11772073 0.12140263\n",
      " 0.11403882 0.10985598 0.11932373 0.1253851  0.11742016 0.11496556\n",
      " 0.10917971 0.11003131 0.11251096 0.10770194 0.08926738 0.07854728\n",
      " 0.08919224 0.09833438 0.09908579 0.09665623 0.08328115 0.0841077\n",
      " 0.08050094 0.07889793 0.09054477 0.07899812 0.08909205 0.09244834\n",
      " 0.09272386 0.09154665 0.10126487 0.10672511 0.11396368 0.10647464\n",
      " 0.09507827 0.12247965 0.11646838 0.10973075 0.09565435 0.08025047\n",
      " 0.07899812 0.08035066 0.08180338 0.07020664 0.10026299 0.08796136\n",
      " 0.08604603 0.08472179 0.08380347 0.08316907 0.08274444 0.08248416\n",
      " 0.08235693 0.0823371  0.08240074 0.08252466 0.08268683 0.0828672\n",
      " 0.08304849 0.08321673 0.08336136 0.08347522 0.08355419 0.08359678\n",
      " 0.08360377 0.0835776  0.08352198 0.08344147]\n",
      "23 day output [[0.08334107]]\n",
      "24 day input [0.12510958 0.12651221 0.13943644 0.13693175 0.1331747  0.14850344\n",
      " 0.14770194 0.14654978 0.14534753 0.14547276 0.15629305 0.15441453\n",
      " 0.16345648 0.1661866  0.16578585 0.16959299 0.16859111 0.16200376\n",
      " 0.15211021 0.15125861 0.15201002 0.15827176 0.14221666 0.13660614\n",
      " 0.13041954 0.1261866  0.12804008 0.12265498 0.11944897 0.12303068\n",
      " 0.11927364 0.1265623  0.14174076 0.11772073 0.12140263 0.11403882\n",
      " 0.10985598 0.11932373 0.1253851  0.11742016 0.11496556 0.10917971\n",
      " 0.11003131 0.11251096 0.10770194 0.08926738 0.07854728 0.08919224\n",
      " 0.09833438 0.09908579 0.09665623 0.08328115 0.0841077  0.08050094\n",
      " 0.07889793 0.09054477 0.07899812 0.08909205 0.09244834 0.09272386\n",
      " 0.09154665 0.10126487 0.10672511 0.11396368 0.10647464 0.09507827\n",
      " 0.12247965 0.11646838 0.10973075 0.09565435 0.08025047 0.07899812\n",
      " 0.08035066 0.08180338 0.07020664 0.10026299 0.08796136 0.08604603\n",
      " 0.08472179 0.08380347 0.08316907 0.08274444 0.08248416 0.08235693\n",
      " 0.0823371  0.08240074 0.08252466 0.08268683 0.0828672  0.08304849\n",
      " 0.08321673 0.08336136 0.08347522 0.08355419 0.08359678 0.08360377\n",
      " 0.0835776  0.08352198 0.08344147 0.08334107]\n",
      "24 day output [[0.08322595]]\n",
      "25 day input [0.12651221 0.13943644 0.13693175 0.1331747  0.14850344 0.14770194\n",
      " 0.14654978 0.14534753 0.14547276 0.15629305 0.15441453 0.16345648\n",
      " 0.1661866  0.16578585 0.16959299 0.16859111 0.16200376 0.15211021\n",
      " 0.15125861 0.15201002 0.15827176 0.14221666 0.13660614 0.13041954\n",
      " 0.1261866  0.12804008 0.12265498 0.11944897 0.12303068 0.11927364\n",
      " 0.1265623  0.14174076 0.11772073 0.12140263 0.11403882 0.10985598\n",
      " 0.11932373 0.1253851  0.11742016 0.11496556 0.10917971 0.11003131\n",
      " 0.11251096 0.10770194 0.08926738 0.07854728 0.08919224 0.09833438\n",
      " 0.09908579 0.09665623 0.08328115 0.0841077  0.08050094 0.07889793\n",
      " 0.09054477 0.07899812 0.08909205 0.09244834 0.09272386 0.09154665\n",
      " 0.10126487 0.10672511 0.11396368 0.10647464 0.09507827 0.12247965\n",
      " 0.11646838 0.10973075 0.09565435 0.08025047 0.07899812 0.08035066\n",
      " 0.08180338 0.07020664 0.10026299 0.08796136 0.08604603 0.08472179\n",
      " 0.08380347 0.08316907 0.08274444 0.08248416 0.08235693 0.0823371\n",
      " 0.08240074 0.08252466 0.08268683 0.0828672  0.08304849 0.08321673\n",
      " 0.08336136 0.08347522 0.08355419 0.08359678 0.08360377 0.0835776\n",
      " 0.08352198 0.08344147 0.08334107 0.08322595]\n",
      "25 day output [[0.0831012]]\n",
      "26 day input [0.13943644 0.13693175 0.1331747  0.14850344 0.14770194 0.14654978\n",
      " 0.14534753 0.14547276 0.15629305 0.15441453 0.16345648 0.1661866\n",
      " 0.16578585 0.16959299 0.16859111 0.16200376 0.15211021 0.15125861\n",
      " 0.15201002 0.15827176 0.14221666 0.13660614 0.13041954 0.1261866\n",
      " 0.12804008 0.12265498 0.11944897 0.12303068 0.11927364 0.1265623\n",
      " 0.14174076 0.11772073 0.12140263 0.11403882 0.10985598 0.11932373\n",
      " 0.1253851  0.11742016 0.11496556 0.10917971 0.11003131 0.11251096\n",
      " 0.10770194 0.08926738 0.07854728 0.08919224 0.09833438 0.09908579\n",
      " 0.09665623 0.08328115 0.0841077  0.08050094 0.07889793 0.09054477\n",
      " 0.07899812 0.08909205 0.09244834 0.09272386 0.09154665 0.10126487\n",
      " 0.10672511 0.11396368 0.10647464 0.09507827 0.12247965 0.11646838\n",
      " 0.10973075 0.09565435 0.08025047 0.07899812 0.08035066 0.08180338\n",
      " 0.07020664 0.10026299 0.08796136 0.08604603 0.08472179 0.08380347\n",
      " 0.08316907 0.08274444 0.08248416 0.08235693 0.0823371  0.08240074\n",
      " 0.08252466 0.08268683 0.0828672  0.08304849 0.08321673 0.08336136\n",
      " 0.08347522 0.08355419 0.08359678 0.08360377 0.0835776  0.08352198\n",
      " 0.08344147 0.08334107 0.08322595 0.0831012 ]\n",
      "26 day output [[0.08297154]]\n",
      "27 day input [0.13693175 0.1331747  0.14850344 0.14770194 0.14654978 0.14534753\n",
      " 0.14547276 0.15629305 0.15441453 0.16345648 0.1661866  0.16578585\n",
      " 0.16959299 0.16859111 0.16200376 0.15211021 0.15125861 0.15201002\n",
      " 0.15827176 0.14221666 0.13660614 0.13041954 0.1261866  0.12804008\n",
      " 0.12265498 0.11944897 0.12303068 0.11927364 0.1265623  0.14174076\n",
      " 0.11772073 0.12140263 0.11403882 0.10985598 0.11932373 0.1253851\n",
      " 0.11742016 0.11496556 0.10917971 0.11003131 0.11251096 0.10770194\n",
      " 0.08926738 0.07854728 0.08919224 0.09833438 0.09908579 0.09665623\n",
      " 0.08328115 0.0841077  0.08050094 0.07889793 0.09054477 0.07899812\n",
      " 0.08909205 0.09244834 0.09272386 0.09154665 0.10126487 0.10672511\n",
      " 0.11396368 0.10647464 0.09507827 0.12247965 0.11646838 0.10973075\n",
      " 0.09565435 0.08025047 0.07899812 0.08035066 0.08180338 0.07020664\n",
      " 0.10026299 0.08796136 0.08604603 0.08472179 0.08380347 0.08316907\n",
      " 0.08274444 0.08248416 0.08235693 0.0823371  0.08240074 0.08252466\n",
      " 0.08268683 0.0828672  0.08304849 0.08321673 0.08336136 0.08347522\n",
      " 0.08355419 0.08359678 0.08360377 0.0835776  0.08352198 0.08344147\n",
      " 0.08334107 0.08322595 0.0831012  0.08297154]\n"
     ]
    },
    {
     "name": "stdout",
     "output_type": "stream",
     "text": [
      "27 day output [[0.08284125]]\n",
      "28 day input [0.1331747  0.14850344 0.14770194 0.14654978 0.14534753 0.14547276\n",
      " 0.15629305 0.15441453 0.16345648 0.1661866  0.16578585 0.16959299\n",
      " 0.16859111 0.16200376 0.15211021 0.15125861 0.15201002 0.15827176\n",
      " 0.14221666 0.13660614 0.13041954 0.1261866  0.12804008 0.12265498\n",
      " 0.11944897 0.12303068 0.11927364 0.1265623  0.14174076 0.11772073\n",
      " 0.12140263 0.11403882 0.10985598 0.11932373 0.1253851  0.11742016\n",
      " 0.11496556 0.10917971 0.11003131 0.11251096 0.10770194 0.08926738\n",
      " 0.07854728 0.08919224 0.09833438 0.09908579 0.09665623 0.08328115\n",
      " 0.0841077  0.08050094 0.07889793 0.09054477 0.07899812 0.08909205\n",
      " 0.09244834 0.09272386 0.09154665 0.10126487 0.10672511 0.11396368\n",
      " 0.10647464 0.09507827 0.12247965 0.11646838 0.10973075 0.09565435\n",
      " 0.08025047 0.07899812 0.08035066 0.08180338 0.07020664 0.10026299\n",
      " 0.08796136 0.08604603 0.08472179 0.08380347 0.08316907 0.08274444\n",
      " 0.08248416 0.08235693 0.0823371  0.08240074 0.08252466 0.08268683\n",
      " 0.0828672  0.08304849 0.08321673 0.08336136 0.08347522 0.08355419\n",
      " 0.08359678 0.08360377 0.0835776  0.08352198 0.08344147 0.08334107\n",
      " 0.08322595 0.0831012  0.08297154 0.08284125]\n",
      "28 day output [[0.08271401]]\n",
      "29 day input [0.14850344 0.14770194 0.14654978 0.14534753 0.14547276 0.15629305\n",
      " 0.15441453 0.16345648 0.1661866  0.16578585 0.16959299 0.16859111\n",
      " 0.16200376 0.15211021 0.15125861 0.15201002 0.15827176 0.14221666\n",
      " 0.13660614 0.13041954 0.1261866  0.12804008 0.12265498 0.11944897\n",
      " 0.12303068 0.11927364 0.1265623  0.14174076 0.11772073 0.12140263\n",
      " 0.11403882 0.10985598 0.11932373 0.1253851  0.11742016 0.11496556\n",
      " 0.10917971 0.11003131 0.11251096 0.10770194 0.08926738 0.07854728\n",
      " 0.08919224 0.09833438 0.09908579 0.09665623 0.08328115 0.0841077\n",
      " 0.08050094 0.07889793 0.09054477 0.07899812 0.08909205 0.09244834\n",
      " 0.09272386 0.09154665 0.10126487 0.10672511 0.11396368 0.10647464\n",
      " 0.09507827 0.12247965 0.11646838 0.10973075 0.09565435 0.08025047\n",
      " 0.07899812 0.08035066 0.08180338 0.07020664 0.10026299 0.08796136\n",
      " 0.08604603 0.08472179 0.08380347 0.08316907 0.08274444 0.08248416\n",
      " 0.08235693 0.0823371  0.08240074 0.08252466 0.08268683 0.0828672\n",
      " 0.08304849 0.08321673 0.08336136 0.08347522 0.08355419 0.08359678\n",
      " 0.08360377 0.0835776  0.08352198 0.08344147 0.08334107 0.08322595\n",
      " 0.0831012  0.08297154 0.08284125 0.08271401]\n",
      "29 day output [[0.08259286]]\n",
      "[[0.0879613608121872], [0.08604602515697479], [0.08472178876399994], [0.08380347490310669], [0.08316907286643982], [0.08274444192647934], [0.0824841633439064], [0.08235692977905273], [0.08233710378408432], [0.08240073919296265], [0.08252465724945068], [0.08268682658672333], [0.08286719769239426], [0.0830484926700592], [0.08321672677993774], [0.08336135745048523], [0.08347521722316742], [0.08355418592691422], [0.08359678089618683], [0.08360376954078674], [0.08357759565114975], [0.08352198451757431], [0.08344146609306335], [0.0833410695195198], [0.08322595059871674], [0.08310119807720184], [0.08297153562307358], [0.08284124732017517], [0.0827140063047409], [0.08259285986423492]]\n"
     ]
    }
   ],
   "source": [
    "# demonstrate prediction for next 10 days\n",
    "from numpy import array\n",
    "\n",
    "lst_output=[]\n",
    "n_steps=100\n",
    "i=0\n",
    "while(i<30):\n",
    "    \n",
    "    if(len(temp_input)>100):\n",
    "        #print(temp_input)\n",
    "        x_input=np.array(temp_input[1:])\n",
    "        print(\"{} day input {}\".format(i,x_input))\n",
    "        x_input=x_input.reshape(1,-1)\n",
    "        x_input = x_input.reshape((1, n_steps, 1))\n",
    "        #print(x_input)\n",
    "        yhat = model.predict(x_input, verbose=0)\n",
    "        print(\"{} day output {}\".format(i,yhat))\n",
    "        temp_input.extend(yhat[0].tolist())\n",
    "        temp_input=temp_input[1:]\n",
    "        #print(temp_input)\n",
    "        lst_output.extend(yhat.tolist())\n",
    "        i=i+1\n",
    "    else:\n",
    "        x_input = x_input.reshape((1, n_steps,1))\n",
    "        yhat = model.predict(x_input, verbose=0)\n",
    "        print(yhat[0])\n",
    "        temp_input.extend(yhat[0].tolist())\n",
    "        print(len(temp_input))\n",
    "        lst_output.extend(yhat.tolist())\n",
    "        i=i+1\n",
    "    \n",
    "\n",
    "print(lst_output)"
   ]
  },
  {
   "cell_type": "code",
   "execution_count": 155,
   "id": "a27e785c",
   "metadata": {},
   "outputs": [],
   "source": [
    "day_new=np.arange(1,101)\n",
    "day_pred=np.arange(101,131)"
   ]
  },
  {
   "cell_type": "code",
   "execution_count": 156,
   "id": "891ca205",
   "metadata": {},
   "outputs": [],
   "source": [
    "import matplotlib.pyplot as plt"
   ]
  },
  {
   "cell_type": "code",
   "execution_count": 157,
   "id": "0d200942",
   "metadata": {},
   "outputs": [
    {
     "data": {
      "text/plain": [
       "1258"
      ]
     },
     "execution_count": 157,
     "metadata": {},
     "output_type": "execute_result"
    }
   ],
   "source": [
    "len(df1)"
   ]
  },
  {
   "cell_type": "code",
   "execution_count": 158,
   "id": "f0967984",
   "metadata": {},
   "outputs": [
    {
     "data": {
      "text/plain": [
       "[<matplotlib.lines.Line2D at 0x1f89d5b0610>]"
      ]
     },
     "execution_count": 158,
     "metadata": {},
     "output_type": "execute_result"
    },
    {
     "data": {
      "image/png": "[encoded data removed]",
      "text/plain": [
       "<Figure size 640x480 with 1 Axes>"
      ]
     },
     "metadata": {},
     "output_type": "display_data"
    }
   ],
   "source": [
    "plt.plot(day_new,scaler.inverse_transform(df1[1158:]))\n",
    "plt.plot(day_pred,scaler.inverse_transform(lst_output))"
   ]
  },
  {
   "cell_type": "code",
   "execution_count": 159,
   "id": "60ed90ba",
   "metadata": {},
   "outputs": [
    {
     "data": {
      "text/plain": [
       "[<matplotlib.lines.Line2D at 0x1f89de19df0>]"
      ]
     },
     "execution_count": 159,
     "metadata": {},
     "output_type": "execute_result"
    },
    {
     "data": {
      "image/png": "[encoded data removed]",
      "text/plain": [
       "<Figure size 640x480 with 1 Axes>"
      ]
     },
     "metadata": {},
     "output_type": "display_data"
    }
   ],
   "source": [
    "df3=df1.tolist()\n",
    "df3.extend(lst_output)\n",
    "plt.plot(df3[1200:])"
   ]
  },
  {
   "cell_type": "code",
   "execution_count": 161,
   "id": "6b11890c",
   "metadata": {},
   "outputs": [
    {
     "data": {
      "text/plain": [
       "[<matplotlib.lines.Line2D at 0x1f8ac9f2070>]"
      ]
     },
     "execution_count": 161,
     "metadata": {},
     "output_type": "execute_result"
    },
    {
     "data": {
      "image/png": "[encoded data removed]",
      "text/plain": [
       "<Figure size 640x480 with 1 Axes>"
      ]
     },
     "metadata": {},
     "output_type": "display_data"
    }
   ],
   "source": [
    "df3=scaler.inverse_transform(df3).tolist()\n",
    "plt.plot(df3)"
   ]
  },
  {
   "cell_type": "code",
   "execution_count": null,
   "id": "18b46f05",
   "metadata": {},
   "outputs": [],
   "source": []
  }
 ],
 "metadata": {
  "kernelspec": {
   "display_name": "Python 3 (ipykernel)",
   "language": "python",
   "name": "python3"
  },
  "language_info": {
   "codemirror_mode": {
    "name": "ipython",
    "version": 3
   },
   "file_extension": ".py",
   "mimetype": "text/x-python",
   "name": "python",
   "nbconvert_exporter": "python",
   "pygments_lexer": "ipython3",
   "version": "3.9.13"
  }
 },
 "nbformat": 4,
 "nbformat_minor": 5
}
